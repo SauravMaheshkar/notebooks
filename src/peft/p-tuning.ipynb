{
 "cells": [
  {
   "cell_type": "markdown",
   "metadata": {
    "id": "z2w5BUSjkWuu"
   },
   "source": [
    "📦 Packages and Basic Setup\n",
    "---"
   ]
  },
  {
   "cell_type": "code",
   "execution_count": null,
   "metadata": {
    "id": "kytLsvmzhXQ7"
   },
   "outputs": [],
   "source": [
    "%%capture\n",
    "!pip install -q peft transformers datasets evaluate wandb ml-collections\n",
    "\n",
    "import os\n",
    "\n",
    "import evaluate\n",
    "import ml_collections\n",
    "import numpy as np\n",
    "import wandb\n",
    "from datasets import load_dataset\n",
    "from google.colab import userdata\n",
    "from transformers import (\n",
    "    AutoModelForSequenceClassification,\n",
    "    AutoTokenizer,\n",
    "    DataCollatorWithPadding,\n",
    "    Trainer,\n",
    "    TrainingArguments,\n",
    ")\n",
    "\n",
    "from peft import PromptEncoderConfig, get_peft_model\n",
    "\n",
    "os.environ[\"WANDB_API_KEY\"] = userdata.get(\"W&B\")"
   ]
  },
  {
   "cell_type": "code",
   "execution_count": null,
   "metadata": {
    "id": "VpTZcxcLklbH"
   },
   "outputs": [],
   "source": [
    "# @title ⚙️ Configuration\n",
    "\n",
    "\n",
    "def get_config() -> ml_collections.ConfigDict:\n",
    "    config = ml_collections.ConfigDict()\n",
    "    config.model: str = \"roberta-base\"  # @param {type: \"string\"}\n",
    "    config.task: str = \"mrpc\"  # @param {type: \"string\"}\n",
    "    config.batch_size: int = 128  # @param {type: \"number\"}\n",
    "    config.num_epochs: int = 10  # @param {type: \"number\"}\n",
    "    config.learning_rate: int = 1e-3  # @param {type: \"number\"}\n",
    "    config.dataset: str = \"glue\"  # @param {type: \"string\"}\n",
    "    config.wandb_entity: str = \"sauravmaheshkar\"  # @param {type: \"string\"}\n",
    "\n",
    "    return config\n",
    "\n",
    "\n",
    "config = get_config()"
   ]
  },
  {
   "cell_type": "code",
   "execution_count": null,
   "metadata": {
    "id": "SuHeVMBvlGcW"
   },
   "outputs": [],
   "source": [
    "os.environ[\"WANDB_API_KEY\"] = userdata.get(\"W&B\")\n",
    "\n",
    "wandb.init(\n",
    "    project=\"softprompts\",\n",
    "    entity=config.wandb_entity,\n",
    "    job_type=\"train\",\n",
    "    group=\"p-tuning\",\n",
    "    config=config.to_dict(),\n",
    ")\n",
    "\n",
    "os.environ[\"CUDA_VISIBLE_DEVICES\"] = \"0\"\n",
    "os.environ[\"WANDB_WATCH\"] = \"false\"\n",
    "os.environ[\"WANDB_LOG_MODEL\"] = \"true\""
   ]
  },
  {
   "cell_type": "markdown",
   "metadata": {
    "id": "SfYg0fyHlSR0"
   },
   "source": [
    "## 💿 The Dataset\n",
    "---"
   ]
  },
  {
   "cell_type": "code",
   "execution_count": null,
   "metadata": {
    "id": "p3HEfwKxlTiK"
   },
   "outputs": [],
   "source": [
    "dataset = load_dataset(config.dataset, config.task)"
   ]
  },
  {
   "cell_type": "code",
   "execution_count": null,
   "metadata": {
    "id": "Sw6gudKLlY99"
   },
   "outputs": [],
   "source": [
    "if any(k in config.model for k in (\"gpt\", \"opt\", \"bloom\")):\n",
    "    padding_side = \"left\"\n",
    "else:\n",
    "    padding_side = \"right\"\n",
    "\n",
    "tokenizer = AutoTokenizer.from_pretrained(config.model, padding_side=padding_side)\n",
    "if getattr(tokenizer, \"pad_token_id\") is None:\n",
    "    tokenizer.pad_token_id = tokenizer.eos_token_id\n",
    "\n",
    "\n",
    "def tokenize_function(examples):\n",
    "    # max_length=None => use the model max length (it's actually the default)\n",
    "    outputs = tokenizer(\n",
    "        examples[\"sentence1\"], examples[\"sentence2\"], truncation=True, max_length=None\n",
    "    )\n",
    "    return outputs\n",
    "\n",
    "\n",
    "tokenized_datasets = dataset.map(\n",
    "    tokenize_function,\n",
    "    batched=True,\n",
    "    remove_columns=[\"idx\", \"sentence1\", \"sentence2\"],\n",
    ")\n",
    "\n",
    "tokenized_datasets = tokenized_datasets.rename_column(\"label\", \"labels\")\n",
    "\n",
    "data_collator = DataCollatorWithPadding(tokenizer=tokenizer, padding=\"longest\")"
   ]
  },
  {
   "cell_type": "markdown",
   "metadata": {
    "id": "BnjR9fvdltI4"
   },
   "source": [
    "## ✍️ Model Architecture & Training\n",
    "---"
   ]
  },
  {
   "cell_type": "code",
   "execution_count": null,
   "metadata": {
    "id": "3YWoOGKtluNT"
   },
   "outputs": [],
   "source": [
    "peft_config = PromptEncoderConfig(\n",
    "    task_type=\"SEQ_CLS\", num_virtual_tokens=20, encoder_hidden_size=128\n",
    ")"
   ]
  },
  {
   "cell_type": "code",
   "execution_count": null,
   "metadata": {
    "id": "QEPm1nDtl4Jg"
   },
   "outputs": [],
   "source": [
    "model = AutoModelForSequenceClassification.from_pretrained(\n",
    "    config.model, return_dict=True\n",
    ")\n",
    "model = get_peft_model(model, peft_config)"
   ]
  },
  {
   "cell_type": "code",
   "execution_count": null,
   "metadata": {
    "id": "iv2lF5dJmbyW"
   },
   "outputs": [],
   "source": [
    "metric = evaluate.load(config.dataset, config.task)\n",
    "\n",
    "\n",
    "def compute_metrics(eval_pred):\n",
    "    predictions, labels = eval_pred\n",
    "    predictions = np.argmax(predictions, axis=1)\n",
    "    return metric.compute(predictions=predictions, references=labels)"
   ]
  },
  {
   "cell_type": "code",
   "execution_count": null,
   "metadata": {
    "id": "N77mAHAZmFg2"
   },
   "outputs": [],
   "source": [
    "training_args = TrainingArguments(\n",
    "    output_dir=f\"{config.model}-peft-p-tuning\",\n",
    "    learning_rate=config.learning_rate,\n",
    "    per_device_train_batch_size=config.batch_size,\n",
    "    per_device_eval_batch_size=config.batch_size,\n",
    "    num_train_epochs=config.num_epochs,\n",
    "    weight_decay=0.01,\n",
    "    evaluation_strategy=\"epoch\",\n",
    "    save_strategy=\"epoch\",\n",
    "    load_best_model_at_end=True,\n",
    "    report_to=[\"wandb\"],\n",
    ")"
   ]
  },
  {
   "cell_type": "code",
   "execution_count": null,
   "metadata": {
    "id": "vVXXO0UnmZ_5"
   },
   "outputs": [],
   "source": [
    "trainer = Trainer(\n",
    "    model=model,\n",
    "    args=training_args,\n",
    "    train_dataset=tokenized_datasets[\"train\"],\n",
    "    eval_dataset=tokenized_datasets[\"test\"],\n",
    "    tokenizer=tokenizer,\n",
    "    data_collator=data_collator,\n",
    "    compute_metrics=compute_metrics,\n",
    ")\n",
    "\n",
    "train_results = trainer.train()"
   ]
  },
  {
   "cell_type": "code",
   "execution_count": null,
   "metadata": {
    "id": "kuR6MhOunIYR"
   },
   "outputs": [],
   "source": [
    "wandb.config.train_results = train_results\n",
    "wandb.finish()"
   ]
  }
 ],
 "metadata": {
  "accelerator": "GPU",
  "colab": {
   "authorship_tag": "ABX9TyPnUBWluJ5e8QUDZIw6TZ+z",
   "cell_execution_strategy": "setup",
   "gpuType": "T4",
   "include_colab_link": true,
   "private_outputs": true,
   "provenance": []
  },
  "kernelspec": {
   "display_name": "Python 3 (ipykernel)",
   "language": "python",
   "name": "python3"
  },
  "language_info": {
   "codemirror_mode": {
    "name": "ipython",
    "version": 3
   },
   "file_extension": ".py",
   "mimetype": "text/x-python",
   "name": "python",
   "nbconvert_exporter": "python",
   "pygments_lexer": "ipython3",
   "version": "3.10.13"
  }
 },
 "nbformat": 4,
 "nbformat_minor": 4
}
