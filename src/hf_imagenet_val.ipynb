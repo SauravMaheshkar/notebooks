{
 "cells": [
  {
   "cell_type": "code",
   "source": [
    "# @title Configuration\n",
    "model_id = \"facebook/data2vec-vision-base-ft1k\"  # @param {type:\"string\"}"
   ],
   "metadata": {
    "id": "ecS9XS0KMDOW",
    "cellView": "form"
   },
   "execution_count": null,
   "outputs": []
  },
  {
   "cell_type": "markdown",
   "source": [
    "## 📦 Packages and Basic Setup\n",
    "---"
   ],
   "metadata": {
    "id": "fXXI0cDwLwl0"
   }
  },
  {
   "cell_type": "code",
   "execution_count": null,
   "metadata": {
    "id": "7MYJ2vC7vxY2"
   },
   "outputs": [],
   "source": [
    "!nvidia-smi"
   ]
  },
  {
   "cell_type": "code",
   "source": [
    "%%capture\n",
    "!pip install -U datasets evaluate"
   ],
   "metadata": {
    "id": "o1HyU-4rw6nG"
   },
   "execution_count": null,
   "outputs": []
  },
  {
   "cell_type": "code",
   "execution_count": null,
   "metadata": {
    "id": "YPUiVfJj1fVw"
   },
   "outputs": [],
   "source": [
    "import evaluate\n",
    "import numpy as np\n",
    "import torch\n",
    "from datasets import load_dataset\n",
    "from torchvision.transforms import (\n",
    "    CenterCrop,\n",
    "    Compose,\n",
    "    Normalize,\n",
    "    Resize,\n",
    "    ToTensor,\n",
    ")\n",
    "from transformers import (\n",
    "    AutoConfig,\n",
    "    AutoFeatureExtractor,\n",
    "    AutoModelForImageClassification,\n",
    "    Trainer,\n",
    "    TrainingArguments,\n",
    ")"
   ]
  },
  {
   "cell_type": "markdown",
   "source": [
    "## 💿 Load Dataset\n",
    "---"
   ],
   "metadata": {
    "id": "8E7xfZkhLiE7"
   }
  },
  {
   "cell_type": "code",
   "source": [
    "import datasets\n",
    "\n",
    "datasets.logging.set_verbosity_error()"
   ],
   "metadata": {
    "id": "pU5wjlJaPojl"
   },
   "execution_count": null,
   "outputs": []
  },
  {
   "cell_type": "code",
   "execution_count": null,
   "metadata": {
    "id": "hdGY5_Kjv-n5"
   },
   "outputs": [],
   "source": [
    "%%capture\n",
    "test_ds = load_dataset(\"mrm8488/ImageNet1K-val\", split=\"train\")"
   ]
  },
  {
   "cell_type": "code",
   "source": [
    "!wget https://huggingface.co/{model_id}/resolve/main/config.json"
   ],
   "metadata": {
    "id": "aeuwSK_4j5yF"
   },
   "execution_count": null,
   "outputs": []
  },
  {
   "cell_type": "code",
   "source": [
    "import json\n",
    "\n",
    "model_config = None\n",
    "\n",
    "with open(\"config.json\", \"r\") as f:\n",
    "    model_config = json.load(f)"
   ],
   "metadata": {
    "id": "9xRAZdmvj7hL"
   },
   "execution_count": null,
   "outputs": []
  },
  {
   "cell_type": "code",
   "source": [
    "label2id = model_config[\"label2id\"]\n",
    "id2label = model_config[\"id2label\"]"
   ],
   "metadata": {
    "id": "8s3QVhr-meVZ"
   },
   "execution_count": null,
   "outputs": []
  },
  {
   "cell_type": "code",
   "execution_count": null,
   "metadata": {
    "id": "bwXFi_GF0dJR"
   },
   "outputs": [],
   "source": [
    "metric = evaluate.load(\"accuracy\")\n",
    "\n",
    "\n",
    "def compute_metrics(p):\n",
    "    return metric.compute(\n",
    "        predictions=np.argmax(p.predictions, axis=1), references=p.label_ids\n",
    "    )"
   ]
  },
  {
   "cell_type": "code",
   "execution_count": null,
   "metadata": {
    "id": "x1BAdQYN0m1C"
   },
   "outputs": [],
   "source": [
    "%%capture\n",
    "config = AutoConfig.from_pretrained(\n",
    "    model_id,\n",
    "    num_labels=1000,\n",
    "    label2id=label2id,\n",
    "    id2label=id2label,\n",
    "    finetuning_task=\"image-classification\",\n",
    ")\n",
    "\n",
    "model = AutoModelForImageClassification.from_pretrained(model_id, config=config)\n",
    "\n",
    "feature_extractor = AutoFeatureExtractor.from_pretrained(model_id)"
   ]
  },
  {
   "cell_type": "code",
   "execution_count": null,
   "metadata": {
    "id": "BPnSeeGg1QNX"
   },
   "outputs": [],
   "source": [
    "normalize = Normalize(\n",
    "    mean=feature_extractor.image_mean, std=feature_extractor.image_std\n",
    ")\n",
    "\n",
    "_val_transforms = Compose(\n",
    "    [\n",
    "        Resize(feature_extractor.size[\"height\"]),\n",
    "        CenterCrop(feature_extractor.size[\"height\"]),\n",
    "        ToTensor(),\n",
    "        normalize,\n",
    "    ]\n",
    ")"
   ]
  },
  {
   "cell_type": "code",
   "execution_count": null,
   "metadata": {
    "id": "z6K0oJGC1ukG"
   },
   "outputs": [],
   "source": [
    "def val_transforms(example_batch):\n",
    "    example_batch[\"pixel_values\"] = [\n",
    "        _val_transforms(pil_img.convert(\"RGB\")) for pil_img in example_batch[\"image\"]\n",
    "    ]\n",
    "    return example_batch\n",
    "\n",
    "\n",
    "test_ds.set_transform(val_transforms)"
   ]
  },
  {
   "cell_type": "code",
   "execution_count": null,
   "metadata": {
    "id": "dHOKBi5r3GfE"
   },
   "outputs": [],
   "source": [
    "def collate_fn(examples):\n",
    "    pixel_values = torch.stack([example[\"pixel_values\"] for example in examples])\n",
    "    labels = torch.tensor([example[\"label\"] for example in examples])\n",
    "    return {\"pixel_values\": pixel_values, \"labels\": labels}"
   ]
  },
  {
   "cell_type": "markdown",
   "source": [
    "## 👨‍⚖️ Evaluation"
   ],
   "metadata": {
    "id": "O17BtKE_Mkzr"
   }
  },
  {
   "cell_type": "code",
   "execution_count": null,
   "metadata": {
    "id": "JlsgwDb82Q6e"
   },
   "outputs": [],
   "source": [
    "training_args = TrainingArguments(\n",
    "    output_dir=\"/content/imagenet1k-val\",\n",
    "    overwrite_output_dir=True,\n",
    "    remove_unused_columns=False,\n",
    "    do_train=False,\n",
    "    do_eval=True,\n",
    "    eval_strategy=\"epoch\",\n",
    "    per_device_train_batch_size=32,\n",
    "    per_device_eval_batch_size=32,\n",
    "    num_train_epochs=7,\n",
    "    logging_strategy=\"steps\",\n",
    "    report_to=\"none\",\n",
    "    logging_steps=100,\n",
    "    save_strategy=\"epoch\",\n",
    "    save_total_limit=3,\n",
    "    load_best_model_at_end=True,\n",
    "    seed=42,\n",
    ")"
   ]
  },
  {
   "cell_type": "code",
   "execution_count": null,
   "metadata": {
    "id": "JRdcQ7zm2JU3"
   },
   "outputs": [],
   "source": [
    "trainer = Trainer(\n",
    "    model=model,\n",
    "    args=training_args,\n",
    "    eval_dataset=test_ds,\n",
    "    compute_metrics=compute_metrics,\n",
    "    processing_class=feature_extractor,\n",
    "    data_collator=collate_fn,\n",
    ")"
   ]
  },
  {
   "cell_type": "code",
   "execution_count": null,
   "metadata": {
    "id": "B32S_y5Y3TIo"
   },
   "outputs": [],
   "source": [
    "trainer.evaluate()"
   ]
  }
 ],
 "metadata": {
  "accelerator": "GPU",
  "colab": {
   "provenance": [],
   "private_outputs": true,
   "toc_visible": true,
   "gpuType": "T4"
  },
  "kernelspec": {
   "display_name": "Python 3",
   "name": "python3"
  },
  "language_info": {
   "name": "python"
  }
 },
 "nbformat": 4,
 "nbformat_minor": 0
}
