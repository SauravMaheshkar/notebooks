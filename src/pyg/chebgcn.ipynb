{
 "cells": [
  {
   "cell_type": "markdown",
   "metadata": {
    "id": "9MjGPQeumfBv"
   },
   "source": [
    "## 📦 Packages and Basic Setup\n",
    "---"
   ]
  },
  {
   "cell_type": "code",
   "execution_count": null,
   "metadata": {
    "id": "0ItiLax9maHl"
   },
   "outputs": [],
   "source": [
    "%%capture\n",
    "import os\n",
    "\n",
    "import torch\n",
    "\n",
    "torch_version = torch.__version__.split(\"+\")\n",
    "os.environ[\"TORCH\"] = torch_version[0]\n",
    "os.environ[\"CUDA\"] = torch_version[1]\n",
    "\n",
    "!pip install pyg-lib torch-scatter torch-sparse -f https://data.pyg.org/whl/torch-{CUDA}.html\n",
    "!pip install torch-geometric\n",
    "!pip install -q --upgrade wandb\n",
    "\n",
    "import torch.nn.functional as F\n",
    "import torch_geometric.transforms as T\n",
    "import wandb\n",
    "from torch_geometric.datasets import Planetoid\n",
    "from torch_geometric.nn import ChebConv\n",
    "\n",
    "device = torch.device(\"cuda\" if torch.cuda.is_available() else \"cpu\")"
   ]
  },
  {
   "cell_type": "code",
   "execution_count": null,
   "metadata": {
    "id": "nZyIZuEmmjge"
   },
   "outputs": [],
   "source": [
    "# @title ⚙ Configuration\n",
    "from google.colab import userdata\n",
    "\n",
    "# Paste your api key here\n",
    "os.environ[\"WANDB_API_KEY\"] = userdata.get(\"W&B\")\n",
    "\n",
    "wandb.init(project=\"ChebGCN\", entity=\"graph-neural-networks\")\n",
    "\n",
    "config = wandb.config\n",
    "config.lr = 0.01  # @param {type: \"number\"}\n",
    "config.num_hops = 3  # @param {type: \"number\"}\n",
    "config.latent_dim = 64  # @param {type: \"number\"}\n",
    "config.num_epochs = 50  # @param {type: \"number\"}\n",
    "wandb.config.update(config)"
   ]
  },
  {
   "cell_type": "markdown",
   "metadata": {
    "id": "Ded8jfu6musD"
   },
   "source": [
    "## 💿 The Dataset\n",
    "---"
   ]
  },
  {
   "cell_type": "code",
   "execution_count": null,
   "metadata": {
    "id": "Wid81qhImv4b"
   },
   "outputs": [],
   "source": [
    "dataset = Planetoid(\"data/\", \"Cora\", transform=T.NormalizeFeatures())\n",
    "data = dataset[0]"
   ]
  },
  {
   "cell_type": "markdown",
   "metadata": {
    "id": "r8frSYKMoJQs"
   },
   "source": [
    "## ✍️ Model Architecture & Training\n",
    "---"
   ]
  },
  {
   "cell_type": "code",
   "execution_count": null,
   "metadata": {
    "id": "SiW-Ha-6oKCJ"
   },
   "outputs": [],
   "source": [
    "class ChebNet(torch.nn.Module):\n",
    "    def __init__(self, num_features, latent_dim, num_classes, num_hops):\n",
    "        super().__init__()\n",
    "        self.conv1 = ChebConv(num_features, latent_dim, num_hops)\n",
    "        self.conv2 = ChebConv(latent_dim, num_classes, num_hops)\n",
    "\n",
    "    def reset_parameters(self):\n",
    "        self.conv1.reset_parameters()\n",
    "        self.conv2.reset_parameters()\n",
    "\n",
    "    def forward(self, data):\n",
    "        x, edge_index = data.x, data.edge_index\n",
    "        x = F.relu(self.conv1(x, edge_index))\n",
    "        x = F.dropout(x, p=0.5, training=self.training)\n",
    "        x = self.conv2(x, edge_index)\n",
    "        return F.log_softmax(x, dim=1)\n",
    "\n",
    "\n",
    "model = ChebNet(\n",
    "    num_features=dataset.num_features,\n",
    "    latent_dim=config.latent_dim,\n",
    "    num_classes=dataset.num_classes,\n",
    "    num_hops=config.num_hops,\n",
    ")\n",
    "\n",
    "model, data = model.to(device), data.to(device)\n",
    "optimizer = torch.optim.Adam(model.parameters(), lr=config.lr, weight_decay=5e-4)"
   ]
  },
  {
   "cell_type": "markdown",
   "metadata": {
    "id": "T9sk8B-gpVN7"
   },
   "source": [
    "## Training\n",
    "---"
   ]
  },
  {
   "cell_type": "code",
   "execution_count": null,
   "metadata": {
    "id": "TdD42KJ0pWiw"
   },
   "outputs": [],
   "source": [
    "def train(model, optimizer, data):\n",
    "    model.train()\n",
    "    optimizer.zero_grad()\n",
    "    out = model(data)\n",
    "    loss = F.nll_loss(out[data.train_mask], data.y[data.train_mask])\n",
    "    loss.backward()\n",
    "    optimizer.step()\n",
    "\n",
    "\n",
    "@torch.no_grad()\n",
    "def evaluate(model, data):\n",
    "    model.eval()\n",
    "    out = model(data)\n",
    "\n",
    "    outs = {}\n",
    "    for key in [\"train\", \"val\", \"test\"]:\n",
    "        mask = data[f\"{key}_mask\"]\n",
    "        loss = float(F.nll_loss(out[mask], data.y[mask]))\n",
    "        pred = out[mask].argmax(1)\n",
    "        acc = pred.eq(data.y[mask]).sum().item() / mask.sum().item()\n",
    "\n",
    "        outs[f\"{key}_loss\"] = loss\n",
    "        outs[f\"{key}_acc\"] = acc\n",
    "\n",
    "    return outs"
   ]
  },
  {
   "cell_type": "code",
   "execution_count": null,
   "metadata": {
    "id": "gL9e6GRqq4bn"
   },
   "outputs": [],
   "source": [
    "for epoch in range(1, config.num_epochs + 1):\n",
    "    train(model, optimizer, data)\n",
    "    eval_info = evaluate(model, data)\n",
    "    eval_info[\"epoch\"] = epoch\n",
    "\n",
    "    wandb.log(eval_info)\n",
    "\n",
    "wandb.finish()"
   ]
  }
 ],
 "metadata": {
  "accelerator": "GPU",
  "colab": {
   "authorship_tag": "ABX9TyOTzBVydlHGhSmm1qfjRu1K",
   "cell_execution_strategy": "setup",
   "gpuType": "T4",
   "include_colab_link": true,
   "private_outputs": true,
   "provenance": []
  },
  "kernelspec": {
   "display_name": "Python 3 (ipykernel)",
   "language": "python",
   "name": "python3"
  },
  "language_info": {
   "codemirror_mode": {
    "name": "ipython",
    "version": 3
   },
   "file_extension": ".py",
   "mimetype": "text/x-python",
   "name": "python",
   "nbconvert_exporter": "python",
   "pygments_lexer": "ipython3",
   "version": "3.10.13"
  }
 },
 "nbformat": 4,
 "nbformat_minor": 4
}
