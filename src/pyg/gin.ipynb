{
 "cells": [
  {
   "cell_type": "markdown",
   "metadata": {
    "id": "TAFi-4kdCmxt"
   },
   "source": [
    "## 📦 Packages and Basic Setup\n",
    "---"
   ]
  },
  {
   "cell_type": "code",
   "execution_count": null,
   "metadata": {
    "id": "VO1o7LbeBqA-"
   },
   "outputs": [],
   "source": [
    "%%capture\n",
    "import os\n",
    "\n",
    "import torch\n",
    "\n",
    "torch_version = torch.__version__.split(\"+\")\n",
    "os.environ[\"TORCH\"] = torch_version[0]\n",
    "os.environ[\"CUDA\"] = torch_version[1]\n",
    "\n",
    "!pip install pyg-lib torch-scatter torch-sparse -f https://data.pyg.org/whl/torch-${TORCH}+${CUDA}.html\n",
    "!pip install torch-geometric\n",
    "!pip install -q --upgrade wandb\n",
    "\n",
    "import torch.nn.functional as F\n",
    "import torch_geometric.transforms as T\n",
    "import wandb\n",
    "from torch.nn import BatchNorm1d as BN\n",
    "from torch.nn import Linear, ReLU, Sequential\n",
    "from torch.optim import Adam\n",
    "from torch_geometric.datasets import TUDataset\n",
    "from torch_geometric.loader import DataLoader\n",
    "from torch_geometric.nn import GINConv, global_mean_pool\n",
    "from torch_geometric.utils import degree\n",
    "\n",
    "device = torch.device(\"cuda\" if torch.cuda.is_available() else \"cpu\")"
   ]
  },
  {
   "cell_type": "code",
   "execution_count": null,
   "metadata": {
    "id": "CSVa4JLLmlGR"
   },
   "outputs": [],
   "source": [
    "# @title ⚙ Configuration\n",
    "\n",
    "# Paste your api key here\n",
    "os.environ[\"WANDB_API_KEY\"] = \"...\"\n",
    "\n",
    "wandb.init(project=\"GIN\", entity=\"graph-neural-networks\")\n",
    "\n",
    "config = wandb.config\n",
    "config.lr = 0.01  # @param {type: \"number\"}\n",
    "config.num_layers = 5  # @param {type: \"number\"}\n",
    "config.batch_size = 32  # @param {type: \"number\"}\n",
    "config.latent_dim = 32  # @param {type: \"number\"}\n",
    "config.num_epochs = 50  # @param {type: \"number\"}\n",
    "wandb.config.update(config)"
   ]
  },
  {
   "cell_type": "markdown",
   "metadata": {
    "id": "5eLKO479DjIw"
   },
   "source": [
    "## 💿 The Dataset\n",
    "---"
   ]
  },
  {
   "cell_type": "code",
   "execution_count": null,
   "metadata": {
    "id": "bKKG6GFLDkdU"
   },
   "outputs": [],
   "source": [
    "dataset = TUDataset(\"data/\", \"REDDIT-BINARY\", cleaned=False)\n",
    "dataset.data.edge_attr = None"
   ]
  },
  {
   "cell_type": "code",
   "execution_count": null,
   "metadata": {
    "id": "WKezXCMksyqL"
   },
   "outputs": [],
   "source": [
    "class NormalizedDegree:\n",
    "    def __init__(self, mean, std):\n",
    "        self.mean = mean\n",
    "        self.std = std\n",
    "\n",
    "    def __call__(self, data):\n",
    "        deg = degree(data.edge_index[0], dtype=torch.float)\n",
    "        deg = (deg - self.mean) / self.std\n",
    "        data.x = deg.view(-1, 1)\n",
    "        return data\n",
    "\n",
    "\n",
    "if dataset.data.x is None:\n",
    "    max_degree = 0\n",
    "    degs = []\n",
    "    for data in dataset:\n",
    "        degs += [degree(data.edge_index[0], dtype=torch.long)]\n",
    "        max_degree = max(max_degree, degs[-1].max().item())\n",
    "\n",
    "    print(max_degree)\n",
    "\n",
    "    if max_degree < 1000:\n",
    "        dataset.transform = T.OneHotDegree(max_degree)\n",
    "    else:\n",
    "        deg = torch.cat(degs, dim=0).to(torch.float)\n",
    "        mean, std = deg.mean().item(), deg.std().item()\n",
    "        dataset.transform = NormalizedDegree(mean, std)"
   ]
  },
  {
   "cell_type": "code",
   "execution_count": null,
   "metadata": {
    "id": "hzDaPFpqH46k"
   },
   "outputs": [],
   "source": [
    "# train_loader = DataLoader(dataset, config.batch_size, shuffle=True)\n",
    "train_loader = DataLoader(dataset, 32, shuffle=True)"
   ]
  },
  {
   "cell_type": "code",
   "execution_count": null,
   "metadata": {
    "id": "KhTWiQ0NKn2J"
   },
   "outputs": [],
   "source": [
    "def num_graphs(data):\n",
    "    if hasattr(data, \"num_graphs\"):\n",
    "        return data.num_graphs\n",
    "    else:\n",
    "        return data.x.size(0)"
   ]
  },
  {
   "cell_type": "markdown",
   "metadata": {
    "id": "GZo_9RtwDDC9"
   },
   "source": [
    "## ✍️ Model Architecture & Training\n",
    "---"
   ]
  },
  {
   "cell_type": "code",
   "execution_count": null,
   "metadata": {
    "id": "026XzX-FDDvM"
   },
   "outputs": [],
   "source": [
    "class GIN0(torch.nn.Module):\n",
    "    def __init__(self, dataset, num_layers, hidden):\n",
    "        super().__init__()\n",
    "        self.conv1 = GINConv(\n",
    "            Sequential(\n",
    "                Linear(dataset.num_features, hidden),\n",
    "                ReLU(),\n",
    "                Linear(hidden, hidden),\n",
    "                ReLU(),\n",
    "                BN(hidden),\n",
    "            ),\n",
    "            train_eps=False,\n",
    "        )\n",
    "        self.convs = torch.nn.ModuleList()\n",
    "        for i in range(num_layers - 1):\n",
    "            self.convs.append(\n",
    "                GINConv(\n",
    "                    Sequential(\n",
    "                        Linear(hidden, hidden),\n",
    "                        ReLU(),\n",
    "                        Linear(hidden, hidden),\n",
    "                        ReLU(),\n",
    "                        BN(hidden),\n",
    "                    ),\n",
    "                    train_eps=False,\n",
    "                )\n",
    "            )\n",
    "        self.lin1 = Linear(hidden, hidden)\n",
    "        self.lin2 = Linear(hidden, dataset.num_classes)\n",
    "\n",
    "    def reset_parameters(self):\n",
    "        self.conv1.reset_parameters()\n",
    "        for conv in self.convs:\n",
    "            conv.reset_parameters()\n",
    "        self.lin1.reset_parameters()\n",
    "        self.lin2.reset_parameters()\n",
    "\n",
    "    def forward(self, data):\n",
    "        x, edge_index, batch = data.x, data.edge_index, data.batch\n",
    "        x = self.conv1(x, edge_index)\n",
    "        for conv in self.convs:\n",
    "            x = conv(x, edge_index)\n",
    "        x = global_mean_pool(x, batch)\n",
    "        x = F.relu(self.lin1(x))\n",
    "        x = F.dropout(x, p=0.5, training=self.training)\n",
    "        x = self.lin2(x)\n",
    "        return F.log_softmax(x, dim=-1)\n",
    "\n",
    "\n",
    "# model = GIN0(dataset, config.num_layers, config.latent_dim)\n",
    "model = GIN0(dataset, 5, 32)"
   ]
  },
  {
   "cell_type": "markdown",
   "metadata": {
    "id": "UAHczXZFOqbz"
   },
   "source": [
    "## Training\n",
    "---"
   ]
  },
  {
   "cell_type": "code",
   "execution_count": null,
   "metadata": {
    "id": "sSCTkgOfJq0-"
   },
   "outputs": [],
   "source": [
    "def train(model, optimizer, loader):\n",
    "    model.train()\n",
    "\n",
    "    total_loss = 0\n",
    "    for data in loader:\n",
    "        optimizer.zero_grad()\n",
    "        data = data.to(device)\n",
    "        out = model(data)\n",
    "        loss = F.nll_loss(out, data.y.view(-1))\n",
    "        loss.backward()\n",
    "        total_loss += loss.item() * num_graphs(data)\n",
    "        optimizer.step()\n",
    "    return total_loss / len(loader.dataset)\n",
    "\n",
    "\n",
    "def eval(model, loader):\n",
    "    model.eval()\n",
    "\n",
    "    correct = 0\n",
    "    for data in loader:\n",
    "        data = data.to(device)\n",
    "        with torch.no_grad():\n",
    "            pred = model(data).max(1)[1]\n",
    "        correct += pred.eq(data.y.view(-1)).sum().item()\n",
    "    return correct / len(loader.dataset)"
   ]
  },
  {
   "cell_type": "code",
   "execution_count": null,
   "metadata": {
    "id": "iKkL0NH8JwXF"
   },
   "outputs": [],
   "source": [
    "model.to(device).reset_parameters()\n",
    "# optimizer = Adam(model.parameters(), lr=config.lr)\n",
    "optimizer = Adam(model.parameters(), lr=0.01)\n",
    "\n",
    "\n",
    "# for epoch in range(1, config.num_epochs + 1):\n",
    "for epoch in range(1, 50 + 1):\n",
    "    train_loss = train(model, optimizer, train_loader)\n",
    "    train_acc = eval(model, train_loader)\n",
    "    print(\"Training Loss: \", train_loss)\n",
    "    print(\"Training Acc: \", train_acc)\n",
    "    wandb.log({\"Training Loss\": train_loss, \"Training Accuracy\": train_acc})\n",
    "\n",
    "wandb.run.summary[\"Training Loss\"] = train_loss\n",
    "wandb.run.summary[\"Training Accuracy\"] = train_acc\n",
    "wandb.finish()"
   ]
  }
 ],
 "metadata": {
  "accelerator": "GPU",
  "colab": {
   "authorship_tag": "ABX9TyPhSCq4PY8Gx5pTtw51HFyW",
   "gpuType": "T4",
   "include_colab_link": true,
   "provenance": []
  },
  "kernelspec": {
   "display_name": "Python 3 (ipykernel)",
   "language": "python",
   "name": "python3"
  },
  "language_info": {
   "codemirror_mode": {
    "name": "ipython",
    "version": 3
   },
   "file_extension": ".py",
   "mimetype": "text/x-python",
   "name": "python",
   "nbconvert_exporter": "python",
   "pygments_lexer": "ipython3",
   "version": "3.10.13"
  }
 },
 "nbformat": 4,
 "nbformat_minor": 4
}
