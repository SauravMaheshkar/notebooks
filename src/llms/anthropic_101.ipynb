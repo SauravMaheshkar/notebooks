{
  "nbformat": 4,
  "nbformat_minor": 0,
  "metadata": {
    "colab": {
      "private_outputs": true,
      "provenance": [],
      "toc_visible": true,
      "include_colab_link": true
    },
    "kernelspec": {
      "name": "python3",
      "display_name": "Python 3"
    },
    "language_info": {
      "name": "python"
    }
  },
  "cells": [
    {
      "cell_type": "markdown",
      "metadata": {
        "id": "view-in-github",
        "colab_type": "text"
      },
      "source": [
        "<a href=\"https://colab.research.google.com/github/SauravMaheshkar/notebooks/blob/main/src/llms/anthropic_101.ipynb\" target=\"_parent\"><img src=\"https://colab.research.google.com/assets/colab-badge.svg\" alt=\"Open In Colab\"/></a>"
      ]
    },
    {
      "cell_type": "markdown",
      "source": [
        "## 📦 Packages and Basic Setup\n",
        "---"
      ],
      "metadata": {
        "id": "A-zfGjVqCk8_"
      }
    },
    {
      "cell_type": "code",
      "execution_count": null,
      "metadata": {
        "id": "lnVPd68KCWnz"
      },
      "outputs": [],
      "source": [
        "%%capture\n",
        "!pip install -qU anthropic rich wandb weave\n",
        "\n",
        "from rich import print"
      ]
    },
    {
      "cell_type": "code",
      "source": [
        "import os\n",
        "\n",
        "import weave\n",
        "from google.colab import userdata\n",
        "\n",
        "os.environ[\"WANDB_API_KEY\"] = userdata.get(\"W&B\")\n",
        "os.environ[\"ANTHROPIC_API_KEY\"] = userdata.get(\"ANTHROPIC_API_KEY\")\n",
        "weave.init(\"playground\")"
      ],
      "metadata": {
        "id": "ZRQYVWdGCqlr"
      },
      "execution_count": null,
      "outputs": []
    },
    {
      "cell_type": "markdown",
      "source": [
        "## 🗂 Creating a Anthropic Client\n",
        "---"
      ],
      "metadata": {
        "id": "8t6EU2OvDZnB"
      }
    },
    {
      "cell_type": "code",
      "source": [
        "import anthropic\n",
        "\n",
        "client = anthropic.Anthropic()"
      ],
      "metadata": {
        "id": "YNPjMutiC3hf"
      },
      "execution_count": null,
      "outputs": []
    },
    {
      "cell_type": "code",
      "source": [
        "client"
      ],
      "metadata": {
        "id": "rwobVTRtC8Cs"
      },
      "execution_count": null,
      "outputs": []
    },
    {
      "cell_type": "code",
      "source": [
        "client.base_url"
      ],
      "metadata": {
        "id": "WacpH32QDQIK"
      },
      "execution_count": null,
      "outputs": []
    },
    {
      "cell_type": "code",
      "source": [
        "client.AI_PROMPT"
      ],
      "metadata": {
        "id": "-Py025EUDBh7"
      },
      "execution_count": null,
      "outputs": []
    },
    {
      "cell_type": "code",
      "source": [
        "client.HUMAN_PROMPT"
      ],
      "metadata": {
        "id": "RhgPenrGDDnD"
      },
      "execution_count": null,
      "outputs": []
    },
    {
      "cell_type": "code",
      "source": [
        "from anthropic.types.model import Model\n",
        "\n",
        "print(Model)"
      ],
      "metadata": {
        "id": "nPgQV7FbHHua"
      },
      "execution_count": null,
      "outputs": []
    },
    {
      "cell_type": "markdown",
      "source": [
        "## 🏗 Using the Client\n",
        "---\n",
        "\n",
        "1. Choosing a model: https://docs.anthropic.com/en/docs/models-overview"
      ],
      "metadata": {
        "id": "SPyqp_GbERwe"
      }
    },
    {
      "cell_type": "markdown",
      "source": [
        "### 1️⃣ Basic Usage"
      ],
      "metadata": {
        "id": "0C-rM1W9Lf0s"
      }
    },
    {
      "cell_type": "code",
      "source": [
        "message = client.messages.create(\n",
        "    model=\"claude-3-haiku-20240307\",\n",
        "    max_tokens=1024,\n",
        "    messages=[\n",
        "        {\n",
        "            \"role\": \"user\",\n",
        "            \"content\": \"Your scientists were so preoccupied with whether or not they could, they didn’t stop to think if they should.\",\n",
        "        }\n",
        "    ],\n",
        ")"
      ],
      "metadata": {
        "id": "LDSuK5pJDj4x"
      },
      "execution_count": null,
      "outputs": []
    },
    {
      "cell_type": "code",
      "source": [
        "print(type(message))"
      ],
      "metadata": {
        "id": "aN2EvYdeFiqU"
      },
      "execution_count": null,
      "outputs": []
    },
    {
      "cell_type": "code",
      "source": [
        "print(message.content)"
      ],
      "metadata": {
        "id": "MZOegaLzFonl"
      },
      "execution_count": null,
      "outputs": []
    },
    {
      "cell_type": "code",
      "source": [
        "print(message.content[0].text)"
      ],
      "metadata": {
        "id": "dCDT53mVG9Wi"
      },
      "execution_count": null,
      "outputs": []
    },
    {
      "cell_type": "code",
      "source": [
        "print(message.usage)"
      ],
      "metadata": {
        "id": "zD_rsyw4NBlE"
      },
      "execution_count": null,
      "outputs": []
    },
    {
      "cell_type": "markdown",
      "source": [
        "### 🧑 Providing a System Prompt"
      ],
      "metadata": {
        "id": "WDTN8bp7Lnm6"
      }
    },
    {
      "cell_type": "code",
      "source": [
        "message = client.messages.create(\n",
        "    model=\"claude-3-haiku-20240307\",\n",
        "    max_tokens=1024,\n",
        "    system=\"You are Dr. Ian Malcolm from the Jurassic series. Expand on this.\",\n",
        "    messages=[\n",
        "        {\n",
        "            \"role\": \"user\",\n",
        "            \"content\": \"Your scientists were so preoccupied with whether or not they could, they didn’t stop to think if they should.\",\n",
        "        }\n",
        "    ],\n",
        ")"
      ],
      "metadata": {
        "id": "8hbWXkJ4Lm6M"
      },
      "execution_count": null,
      "outputs": []
    },
    {
      "cell_type": "code",
      "source": [
        "print(message.content[0].text)"
      ],
      "metadata": {
        "id": "MOCbB_WML1Zq"
      },
      "execution_count": null,
      "outputs": []
    },
    {
      "cell_type": "markdown",
      "source": [
        "That's pretty convincing."
      ],
      "metadata": {
        "id": "0TyjLVTZMGva"
      }
    },
    {
      "cell_type": "markdown",
      "source": [
        "### 🏙 Going MultiModal with Images"
      ],
      "metadata": {
        "id": "aBBuT9OedJsM"
      }
    },
    {
      "cell_type": "code",
      "source": [
        "%%capture\n",
        "!wget -O image.jpg https://static.wikia.nocookie.net/jurassicpark/images/f/fe/Gate_Entrance_%282%29.JPG/revision/latest/scale-to-width-down/1000?cb=20121109061245"
      ],
      "metadata": {
        "id": "X1pndkxLV-f_"
      },
      "execution_count": null,
      "outputs": []
    },
    {
      "cell_type": "code",
      "source": [
        "import base64\n",
        "\n",
        "with open(\"/content/image.jpg\", \"rb\") as image_file:\n",
        "    image_data = base64.b64encode(image_file.read()).decode(\"utf-8\")\n",
        "\n",
        "message = client.messages.create(\n",
        "    model=\"claude-3-haiku-20240307\",\n",
        "    max_tokens=1024,\n",
        "    messages=[\n",
        "        {\n",
        "            \"role\": \"user\",\n",
        "            \"content\": [\n",
        "                {\n",
        "                    \"type\": \"image\",\n",
        "                    \"source\": {\n",
        "                        \"type\": \"base64\",\n",
        "                        \"media_type\": \"image/jpeg\",\n",
        "                        \"data\": image_data,\n",
        "                    },\n",
        "                }\n",
        "            ],\n",
        "        }\n",
        "    ],\n",
        ")"
      ],
      "metadata": {
        "id": "NyTC9eYaWuWV"
      },
      "execution_count": null,
      "outputs": []
    },
    {
      "cell_type": "code",
      "source": [
        "print(message.content[0].text)"
      ],
      "metadata": {
        "id": "7i8tV9T8Xgg6"
      },
      "execution_count": null,
      "outputs": []
    },
    {
      "cell_type": "markdown",
      "source": [
        "### ❓ Asking Questions about Images"
      ],
      "metadata": {
        "id": "hkXpUJk5dYVi"
      }
    },
    {
      "cell_type": "code",
      "source": [
        "message = client.messages.create(\n",
        "    model=\"claude-3-haiku-20240307\",\n",
        "    max_tokens=16,\n",
        "    messages=[\n",
        "        {\n",
        "            \"role\": \"user\",\n",
        "            \"content\": [\n",
        "                {\n",
        "                    \"type\": \"image\",\n",
        "                    \"source\": {\n",
        "                        \"type\": \"base64\",\n",
        "                        \"media_type\": \"image/jpeg\",\n",
        "                        \"data\": image_data,\n",
        "                    },\n",
        "                },\n",
        "                {\"type\": \"text\", \"text\": \"What image is this movie from?\"},\n",
        "            ],\n",
        "        }\n",
        "    ],\n",
        ")"
      ],
      "metadata": {
        "id": "0qV7EOA9X-Gk"
      },
      "execution_count": null,
      "outputs": []
    },
    {
      "cell_type": "code",
      "source": [
        "print(message.content[0].text)"
      ],
      "metadata": {
        "id": "jfGud7Z9aVSs"
      },
      "execution_count": null,
      "outputs": []
    },
    {
      "cell_type": "markdown",
      "source": [
        "### 🏙 🌆 Multiple Images?"
      ],
      "metadata": {
        "id": "tPtvXvEUddAp"
      }
    },
    {
      "cell_type": "code",
      "source": [
        "%%capture\n",
        "!wget -O raptor1.jpg https://static.wikia.nocookie.net/jurassicpark/images/1/14/Jurassic-park-raptor.jpg/revision/latest?cb=20120918215554\n",
        "!wget -O raptor2.jpg https://static.wikia.nocookie.net/jurassicpark/images/4/40/SB-Velociraptor-R_jpg_630x1200_upscale_q85.jpg/revision/latest/scale-to-width-down/1000?cb=20130701181831"
      ],
      "metadata": {
        "id": "REimzrCnagrq"
      },
      "execution_count": null,
      "outputs": []
    },
    {
      "cell_type": "code",
      "source": [
        "with open(\"/content/raptor1.jpg\", \"rb\") as image_file:\n",
        "    raptor1_data = base64.b64encode(image_file.read()).decode(\"utf-8\")\n",
        "\n",
        "with open(\"/content/raptor2.jpg\", \"rb\") as image_file:\n",
        "    raptor2_data = base64.b64encode(image_file.read()).decode(\"utf-8\")"
      ],
      "metadata": {
        "id": "acK4D5jFa6UU"
      },
      "execution_count": null,
      "outputs": []
    },
    {
      "cell_type": "code",
      "source": [
        "message = client.messages.create(\n",
        "    model=\"claude-3-haiku-20240307\",\n",
        "    max_tokens=32,\n",
        "    messages=[\n",
        "        {\n",
        "            \"role\": \"user\",\n",
        "            \"content\": [\n",
        "                {\"type\": \"text\", \"text\": \"Image 1:\"},\n",
        "                {\n",
        "                    \"type\": \"image\",\n",
        "                    \"source\": {\n",
        "                        \"type\": \"base64\",\n",
        "                        \"media_type\": \"image/jpeg\",\n",
        "                        \"data\": raptor1_data,\n",
        "                    },\n",
        "                },\n",
        "                {\"type\": \"text\", \"text\": \"Image 2:\"},\n",
        "                {\n",
        "                    \"type\": \"image\",\n",
        "                    \"source\": {\n",
        "                        \"type\": \"base64\",\n",
        "                        \"media_type\": \"image/jpeg\",\n",
        "                        \"data\": raptor1_data,\n",
        "                    },\n",
        "                },\n",
        "                {\"type\": \"text\", \"text\": \"What dinosaur is in these photos?\"},\n",
        "            ],\n",
        "        }\n",
        "    ],\n",
        ")\n",
        "\n",
        "print(message.content[0].text)"
      ],
      "metadata": {
        "id": "3FXG8sCDbG1s"
      },
      "execution_count": null,
      "outputs": []
    }
  ]
}
